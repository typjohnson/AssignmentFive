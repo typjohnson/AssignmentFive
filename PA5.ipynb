{
 "cells": [
  {
   "cell_type": "markdown",
   "id": "ba5c3529",
   "metadata": {},
   "source": [
    "## Ty Johnson\n",
    "## Assignment 5\n",
    "## Version 1\n",
    "## Spring 23"
   ]
  },
  {
   "cell_type": "code",
   "execution_count": 16,
   "id": "58e1f123",
   "metadata": {},
   "outputs": [
    {
     "name": "stdout",
     "output_type": "stream",
     "text": [
      "enter a word in english and it will be translated to spanish. enter 0 to quit: dog\n",
      "The spanish word for dog is perro\n",
      "enter a word in english and it will be translated to spanish. enter 0 to quit: moon\n",
      "The spanish word for moon is outside of this dictionary.\n",
      "enter a word in english and it will be translated to spanish. enter 0 to quit: cat\n",
      "The spanish word for cat is gato\n",
      "enter a word in english and it will be translated to spanish. enter 0 to quit: chair\n",
      "The spanish word for chair is silla\n",
      "enter a word in english and it will be translated to spanish. enter 0 to quit: computer\n",
      "The spanish word for computer is computadora\n",
      "enter a word in english and it will be translated to spanish. enter 0 to quit: car\n",
      "The spanish word for car is carro\n",
      "enter a word in english and it will be translated to spanish. enter 0 to quit: 0\n"
     ]
    }
   ],
   "source": [
    "langSpanish = {'chair' : 'silla',\n",
    "               'dog' : 'perro',\n",
    "               'cat' : 'gato',\n",
    "               'friend' : 'amigo',\n",
    "               'mom' : 'madre',\n",
    "               'dad' : 'padre',\n",
    "               'computer' : 'computadora',\n",
    "               'car' : 'carro',\n",
    "               'apple' : 'manzana',\n",
    "               'city' : 'ciudad'\n",
    "       }\n",
    "\n",
    "active = True\n",
    "while active:\n",
    "    prompt = str(input('enter a word in english and it will be translated to spanish. enter 0 to quit: '))\n",
    "    if prompt in langSpanish:\n",
    "        print('The spanish word for', prompt, 'is', langSpanish[prompt])\n",
    "      \n",
    "    elif prompt == '0':\n",
    "        active = False\n",
    "    else:\n",
    "        print('The spanish word for', prompt, 'is outside of this dictionary.')"
   ]
  },
  {
   "cell_type": "code",
   "execution_count": 15,
   "id": "b44391f6",
   "metadata": {},
   "outputs": [
    {
     "data": {
      "text/plain": [
       "{1: 13.88888888888889,\n",
       " 2: 18.333333333333332,\n",
       " 3: 17.77777777777778,\n",
       " 4: 17.22222222222222,\n",
       " 5: 11.666666666666666,\n",
       " 6: 8.88888888888889,\n",
       " 7: 11.666666666666666,\n",
       " 8: 6.666666666666667,\n",
       " 9: 8.88888888888889,\n",
       " 10: 12.777777777777779,\n",
       " 11: 16.666666666666668,\n",
       " 12: 16.11111111111111,\n",
       " 13: 5.0,\n",
       " 14: 3.888888888888889,\n",
       " 15: 8.333333333333334,\n",
       " 16: 13.333333333333334,\n",
       " 17: 18.333333333333332,\n",
       " 18: 12.777777777777779,\n",
       " 19: 17.77777777777778,\n",
       " 20: 5.555555555555555,\n",
       " 21: 6.666666666666667,\n",
       " 22: 3.888888888888889,\n",
       " 23: 5.0,\n",
       " 24: 9.444444444444445,\n",
       " 25: 9.444444444444445,\n",
       " 26: 3.3333333333333335,\n",
       " 27: 11.666666666666666,\n",
       " 28: 15.555555555555555,\n",
       " 29: 10.555555555555555,\n",
       " 30: 4.444444444444445,\n",
       " 31: -1.1111111111111112}"
      ]
     },
     "execution_count": 15,
     "metadata": {},
     "output_type": "execute_result"
    }
   ],
   "source": [
    "janTemp = {1 : 57, 2 : 65, 3 : 64, 4 : 63, 5 : 53, 6 : 48,  7 : 53,\n",
    "       8 : 44, 9 : 48, 10 : 55, 11 : 62, 12 : 61, 13 : 41, 14 : 39, 15 : 47, 16 : 56, 17 : 65,\n",
    "       18 : 55, 19 : 64, 20 : 42, 21 : 44, 22 : 39, 23 : 41, 24 : 49, 25 : 49, 26 : 38, 27 : 53,\n",
    "       28 : 60, 29 : 51, 30 : 40, 31 : 30}\n",
    "for key, value in janTemp.items():\n",
    "    celsiusTemp = (value - 32) * 5/9\n",
    "    janTemp[key] = celsiusTemp\n",
    "janTemp"
   ]
  },
  {
   "cell_type": "code",
   "execution_count": 3,
   "id": "8ef06b46",
   "metadata": {},
   "outputs": [
    {
     "name": "stdout",
     "output_type": "stream",
     "text": [
      "{1: 1}\n",
      "{2: 4}\n",
      "{3: 9}\n",
      "{4: 16}\n",
      "{5: 25}\n",
      "{6: 36}\n",
      "{7: 49}\n",
      "{8: 64}\n",
      "{9: 81}\n",
      "{10: 100}\n",
      "{11: 121}\n",
      "{12: 144}\n",
      "{13: 169}\n",
      "{14: 196}\n",
      "{15: 225}\n"
     ]
    }
   ],
   "source": [
    "for i in range (1,16):\n",
    "    n = {i : i ** 2}\n",
    "    print(n)"
   ]
  },
  {
   "cell_type": "code",
   "execution_count": null,
   "id": "9adc6316",
   "metadata": {},
   "outputs": [],
   "source": []
  }
 ],
 "metadata": {
  "kernelspec": {
   "display_name": "Python 3 (ipykernel)",
   "language": "python",
   "name": "python3"
  },
  "language_info": {
   "codemirror_mode": {
    "name": "ipython",
    "version": 3
   },
   "file_extension": ".py",
   "mimetype": "text/x-python",
   "name": "python",
   "nbconvert_exporter": "python",
   "pygments_lexer": "ipython3",
   "version": "3.9.13"
  }
 },
 "nbformat": 4,
 "nbformat_minor": 5
}
